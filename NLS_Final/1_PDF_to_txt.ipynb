{
 "cells": [
  {
   "cell_type": "code",
   "execution_count": null,
   "metadata": {},
   "outputs": [],
   "source": [
    "import os\n",
    "import nltk\n",
    "import io\n",
    "from pdfminer.layout import LAParams, LTTextBox\n",
    "from pdfminer.pdfpage import PDFPage\n",
    "from pdfminer.pdfinterp import PDFResourceManager\n",
    "from pdfminer.pdfinterp import PDFPageInterpreter\n",
    "from pdfminer.converter import PDFPageAggregator\n",
    "from pdfminer.converter import TextConverter\n",
    "import PyPDF2"
   ]
  },
  {
   "cell_type": "code",
   "execution_count": null,
   "metadata": {},
   "outputs": [],
   "source": [
    "os.getcwd()"
   ]
  },
  {
   "cell_type": "markdown",
   "metadata": {},
   "source": [
    "### Set Directories\n",
    "- Set input_dir to where you store raw PDFs\n",
    "- Set output_dir to where you will store cleaned texts"
   ]
  },
  {
   "cell_type": "code",
   "execution_count": null,
   "metadata": {},
   "outputs": [],
   "source": [
    "input_dir = 'C:\\\\Users\\\\dakersey\\\\Documents\\\\NLS\\\\NLS_Final\\\\Raw_Policies'\n",
    "output_dir = 'C:\\\\Users\\\\dakersey\\\\Documents\\\\NLS\\\\NLS_Final\\\\Policy_Texts'"
   ]
  },
  {
   "cell_type": "code",
   "execution_count": null,
   "metadata": {},
   "outputs": [],
   "source": [
    "os.chdir(input_dir)\n",
    "os.getcwd()"
   ]
  },
  {
   "cell_type": "markdown",
   "metadata": {},
   "source": [
    "### Get all files in Raw_Policies directory"
   ]
  },
  {
   "cell_type": "code",
   "execution_count": null,
   "metadata": {},
   "outputs": [],
   "source": [
    "pdf_files = []\n",
    "\n",
    "for filename in os.listdir('.'): # Go through all files that end with .pdf in cwd and add to list.\n",
    "    if filename.endswith('.pdf'):\n",
    "        pdf_files.append(filename)\n",
    "\n",
    "pdf_files.sort(key=str.lower)"
   ]
  },
  {
   "cell_type": "markdown",
   "metadata": {},
   "source": [
    "### Convert PDFs to .txt files"
   ]
  },
  {
   "cell_type": "code",
   "execution_count": null,
   "metadata": {},
   "outputs": [],
   "source": [
    "## Store city names in a list\n",
    "def extract_name(file_path):\n",
    "    city_name = file_path.split(\"_\")[0]\n",
    "    return city_name"
   ]
  },
  {
   "cell_type": "code",
   "execution_count": null,
   "metadata": {},
   "outputs": [],
   "source": [
    "# Loop through each of the PDF files.\n",
    "for filename in pdf_files:\n",
    "    \n",
    "    #Pull city name from file\n",
    "    city = extract_name(filename)\n",
    "    \n",
    "    # PDFminer variables and components.\n",
    "    resource_manager = PDFResourceManager()\n",
    "    output_string = io.StringIO()\n",
    "    converter = TextConverter(resource_manager, output_string, laparams=LAParams())\n",
    "    page_interpreter = PDFPageInterpreter(resource_manager, converter)\n",
    "\n",
    "    pdfFileObj = open(filename, 'rb') # allows you to read the file.\n",
    "\n",
    "    \n",
    "    # Loop through each page of each PDF file.\n",
    "    for page in PDFPage.get_pages(pdfFileObj,caching=True,check_extractable=True):\n",
    "        page_interpreter.process_page(page)\n",
    "    text = output_string.getvalue()\n",
    "    \n",
    "    # close open handles\n",
    "    converter.close()\n",
    "    output_string.close()\n",
    "\n",
    "    # Save extracted text to a text file.\n",
    "    text_file = open(os.path.join(output_dir, city + '_Extract.txt'),'w', encoding=\"utf-8\") # open to output file and overwrite if it exists.\n",
    "    text_file.write(text)\n",
    "    text_file.close()\n",
    "    \n",
    "    #print(filename)\n",
    "    #print(text_file)\n",
    "    #print('\\n')"
   ]
  },
  {
   "cell_type": "code",
   "execution_count": null,
   "metadata": {},
   "outputs": [],
   "source": []
  }
 ],
 "metadata": {
  "kernelspec": {
   "display_name": "Python 3",
   "language": "python",
   "name": "python3"
  },
  "language_info": {
   "codemirror_mode": {
    "name": "ipython",
    "version": 3
   },
   "file_extension": ".py",
   "mimetype": "text/x-python",
   "name": "python",
   "nbconvert_exporter": "python",
   "pygments_lexer": "ipython3",
   "version": "3.8.3"
  }
 },
 "nbformat": 4,
 "nbformat_minor": 4
}
