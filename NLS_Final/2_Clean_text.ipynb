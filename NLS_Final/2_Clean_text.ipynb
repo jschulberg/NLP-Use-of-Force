{
 "cells": [
  {
   "cell_type": "code",
   "execution_count": 15,
   "metadata": {},
   "outputs": [],
   "source": [
    "import os # Helps work with directories\n",
    "import nltk # Helps with NLP work\n",
    "from nltk.corpus import stopwords # Get our stop words\n",
    "from collections import Counter # Helps with word counts\n",
    "import re # Work with regular expressions\n",
    "import matplotlib.pyplot as plt # Viz package\n",
    "import numpy as np # numpy is used for deeper data analysis in python\n",
    "import pandas as pd # Used for data analysis\n",
    "import collections # Used for iterating on various datasets\n",
    "\n",
    "import functools"
   ]
  },
  {
   "cell_type": "markdown",
   "metadata": {},
   "source": [
    "### List directory"
   ]
  },
  {
   "cell_type": "code",
   "execution_count": 16,
   "metadata": {},
   "outputs": [
    {
     "data": {
      "text/plain": [
       "'C:\\\\Users\\\\dakersey\\\\Documents\\\\NLS\\\\NLS_Final\\\\Policy_Texts'"
      ]
     },
     "execution_count": 16,
     "metadata": {},
     "output_type": "execute_result"
    }
   ],
   "source": [
    "os.getcwd()"
   ]
  },
  {
   "cell_type": "markdown",
   "metadata": {},
   "source": [
    "### Specify directories"
   ]
  },
  {
   "cell_type": "code",
   "execution_count": 17,
   "metadata": {},
   "outputs": [],
   "source": [
    "input_dir = 'C:\\\\Users\\\\dakersey\\\\Documents\\\\NLS\\\\NLS_Final\\\\Policy_Texts'\n",
    "output_dir = 'C:\\\\Users\\\\dakersey\\\\Documents\\\\NLS\\\\NLS_Final\\\\Clean_Text_New'"
   ]
  },
  {
   "cell_type": "markdown",
   "metadata": {},
   "source": [
    "### Change directory"
   ]
  },
  {
   "cell_type": "code",
   "execution_count": 18,
   "metadata": {},
   "outputs": [],
   "source": [
    "os.chdir(input_dir)"
   ]
  },
  {
   "cell_type": "code",
   "execution_count": 19,
   "metadata": {},
   "outputs": [],
   "source": [
    "def bind_rows(dfs, ignore_index=True):\n",
    "    return functools.reduce(lambda t,b: pd.concat([t,b], ignore_index=ignore_index), dfs)"
   ]
  },
  {
   "cell_type": "markdown",
   "metadata": {},
   "source": [
    "### Format dataframe\n",
    "\n",
    "- Put each policy into a row of a dataframe"
   ]
  },
  {
   "cell_type": "code",
   "execution_count": 20,
   "metadata": {},
   "outputs": [],
   "source": [
    "header_list = ['Policy']\n",
    "files = []\n",
    "\n",
    "for i in os.listdir(input_dir):\n",
    "    try:\n",
    "        txt = os.path.join(input_dir, str(i))\n",
    "        city = i.split('_')[0]\n",
    "        if '_Extract' in txt:\n",
    "            f = pd.read_csv(txt, names=header_list)\n",
    "            f['City'] = city\n",
    "            f['Policy'] = f['Policy'].astype(str)\n",
    "            f = f[['City','Policy']]\n",
    "            files.append(f)\n",
    "    except:\n",
    "        pass\n",
    "\n",
    "df = bind_rows(files)\n",
    "df = df.groupby('City', as_index=False).agg({'Policy':np.sum})"
   ]
  },
  {
   "cell_type": "markdown",
   "metadata": {},
   "source": [
    "### Define functions for cleaning text"
   ]
  },
  {
   "cell_type": "code",
   "execution_count": 21,
   "metadata": {},
   "outputs": [],
   "source": [
    "from nltk.tokenize import word_tokenize\n",
    "from nltk.tokenize import sent_tokenize\n",
    "from nltk.corpus import stopwords\n",
    "stopWords = list(set(stopwords.words('english')))\n",
    "\n",
    "contractions_dict = {'didn\\'t': 'did not','don\\'t': 'do not',\n",
    "                     'wouldn\\'t': 'would not', 'won\\'t': 'will not',\n",
    "                    'can\\'t': 'cannot', 'i\\'ve': 'i have', 'i\\'m': 'i am'}\n",
    "\n",
    "def expand_contractions(s, contractions_dict=contractions_dict):\n",
    "    #import re\n",
    "    contractions_re = re.compile('(%s)' % '|'.join(contractions_dict.keys()))\n",
    "    \n",
    "    return contractions_re.sub(replace, s)\n",
    "\n",
    "def replace(match):\n",
    "    return contractions_dict[match.group(0)]\n",
    "\n",
    "### Clean text function\n",
    "def clean_text(document):\n",
    "    #import statements\n",
    "    #from nltk.tokenize import word_tokenize\n",
    "    #from nltk.corpus import stopwords\n",
    "    document = str(document)\n",
    "    docClean = document.replace('\\n', ' ').replace('\\r', '')  ## Newline removal\n",
    "    docClean = \" \".join(x.lower() for x in docClean.split()) ## Lowercase\n",
    "    docClean = expand_contractions(docClean) # expand contractions\n",
    "    docClean = word_tokenize(docClean) #Tokenize\n",
    "    docClean = [w for w in docClean if not w in stopWords] #Drop Stop words\n",
    "    docClean = [w for w in docClean if re.search('^[a-zA-Z]+', w)] #Drop numbers\n",
    "    docClean = ' '.join([re.sub(r'\\W+','',w) for w in docClean]) #Remove non alphanumeric chars\n",
    "    docClean = re.sub('  ', ' ', docClean)\n",
    "    \n",
    "    return docClean.strip()"
   ]
  },
  {
   "cell_type": "markdown",
   "metadata": {},
   "source": [
    "### Clean each policy"
   ]
  },
  {
   "cell_type": "code",
   "execution_count": 22,
   "metadata": {},
   "outputs": [],
   "source": [
    "df['Policy_Clean'] = df['Policy'].apply(lambda x : clean_text(x))\n",
    "df.drop(columns=['Policy'], inplace=True)\n",
    "df.rename(columns={'Policy_Clean':'Policy'}, inplace=True)"
   ]
  },
  {
   "cell_type": "markdown",
   "metadata": {},
   "source": [
    "### Define words indicative of policy presence"
   ]
  },
  {
   "cell_type": "code",
   "execution_count": 23,
   "metadata": {},
   "outputs": [],
   "source": [
    "chokeholds = [\"trachea\", \"windpipe\", \"throat\", \"neck\", \"chokehold\", \"stranglehold\", \"choke\", \"strangle\", 'gag', 'suffocate',\n",
    "              'muffle', 'strangulate', 'neckhold', 'head']\n",
    "descalate = [\"de-escalation\", 'mediation', 'preparation', 'training', 'appropriate', 'consent', 'peace', 'restraint', \n",
    "             'alternative', 'advisement', 'persuasion', 'verbal', 'containment'] \n",
    "reporting = [\"report\", \"record\", \"information\", \"data\", \"summary\", \"public\", \"notification\", 'notify', 'annual',\n",
    "                 'quarterly', 'monthly', 'manager', 'data', 'community', 'document', 'comprehensive']\n",
    "intervention = [\"intervene\", 'intercede', \"bystander\", \"arbitration\", 'conciliation', 'negotiation',\n",
    "                     \"reconciliation\", \"intercession\", \"harmony\", 'accord', 'professional', 'warning', 'disengagement']\n",
    "tech = [\"technology\", \"digital\", \"mobile\", 'electronic', 'computer']\n",
    "violence = [\"violence\", \"death\", \"assault\", \"violent\", 'violence', \"danger\", \"harm\", \"fire\", \"gun\", 'weapon','knife',\n",
    "            'critical', 'collision', 'blood', 'baton', 'abuse', 'imminent', 'offense', 'lethal', 'discharge', 'threat', 'deadly', 'force']\n",
    "mov_vehicle = [\"vehicle\", \"car\", \"moving\", \"driving\", 'wheels', 'driver']\n",
    "chuk = ['head']"
   ]
  },
  {
   "cell_type": "code",
   "execution_count": 24,
   "metadata": {},
   "outputs": [],
   "source": [
    "def search_words(file, words):\n",
    "    counter = 0\n",
    "    for i in words:\n",
    "        if i in file:\n",
    "            counter += 1\n",
    "    return counter"
   ]
  },
  {
   "cell_type": "markdown",
   "metadata": {},
   "source": [
    "### Create dimensions"
   ]
  },
  {
   "cell_type": "code",
   "execution_count": 25,
   "metadata": {},
   "outputs": [],
   "source": [
    "df['chokehold_ban'] = df['Policy'].apply(lambda x : search_words(x,chokeholds))\n",
    "df['descalate'] = df['Policy'].apply(lambda x : search_words(x,descalate))\n",
    "df['reporting'] = df['Policy'].apply(lambda x : search_words(x, reporting))\n",
    "df['intervention'] = df['Policy'].apply(lambda x : search_words(x,intervention))\n",
    "df['tech'] = df['Policy'].apply(lambda x : search_words(x,tech))\n",
    "df['violence'] = df['Policy'].apply(lambda x : search_words(x,violence))\n",
    "df['moving_vehicle'] = df['Policy'].apply(lambda x : search_words(x, mov_vehicle))"
   ]
  },
  {
   "cell_type": "code",
   "execution_count": 26,
   "metadata": {},
   "outputs": [],
   "source": [
    "df.drop(df[df['Policy']==\"\"].index, inplace = True)\n",
    "df.drop(df[df['City'].isin(pd.Series(['Stockton','SanBernardino','Lincoln','Fremont','Bakersfield','FortWorth','Jacksonville']))].index,\n",
    "          inplace=True)"
   ]
  },
  {
   "cell_type": "code",
   "execution_count": 27,
   "metadata": {},
   "outputs": [],
   "source": [
    "df.drop(columns=['Policy'], inplace=True)"
   ]
  },
  {
   "cell_type": "code",
   "execution_count": 28,
   "metadata": {},
   "outputs": [
    {
     "data": {
      "text/plain": [
       "39"
      ]
     },
     "execution_count": 28,
     "metadata": {},
     "output_type": "execute_result"
    }
   ],
   "source": [
    "df['City'].nunique()"
   ]
  },
  {
   "cell_type": "code",
   "execution_count": 31,
   "metadata": {},
   "outputs": [],
   "source": [
    "df.to_csv('dimenstion_table.csv', index=False)"
   ]
  },
  {
   "cell_type": "code",
   "execution_count": null,
   "metadata": {},
   "outputs": [],
   "source": []
  }
 ],
 "metadata": {
  "kernelspec": {
   "display_name": "Python 3",
   "language": "python",
   "name": "python3"
  },
  "language_info": {
   "codemirror_mode": {
    "name": "ipython",
    "version": 3
   },
   "file_extension": ".py",
   "mimetype": "text/x-python",
   "name": "python",
   "nbconvert_exporter": "python",
   "pygments_lexer": "ipython3",
   "version": "3.8.3"
  }
 },
 "nbformat": 4,
 "nbformat_minor": 4
}
